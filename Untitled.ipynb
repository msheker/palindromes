{
 "cells": [
  {
   "cell_type": "code",
   "execution_count": 1,
   "metadata": {
    "collapsed": false
   },
   "outputs": [],
   "source": [
    "import pandas as pd\n",
    "import numpy as np\n",
    "from scipy import stats\n",
    "\n",
    "import matplotlib.pyplot as plt\n",
    "from bokeh.plotting import figure, show, output_file\n",
    "from bokeh.layouts import gridplot\n",
    "\n",
    "data_all = pd.read_csv(\"hcmv-25kgjn1-1rfrtkc.txt\")"
   ]
  },
  {
   "cell_type": "code",
   "execution_count": 26,
   "metadata": {
    "collapsed": false
   },
   "outputs": [],
   "source": [
    "data = data_all\n",
    "\n",
    "p = figure(title=\"Histogram of Locations of Palindromes\", tools=\"save\")\n",
    "\n",
    "hist, edges = np.histogram(data, density=True, bins=100)\n",
    "\n",
    "p.quad(top=hist, bottom=0, left=edges[:-1], right=edges[1:],\n",
    "        fill_color=\"#036564\", line_color=\"#033649\")\n",
    "\n",
    "show(p)"
   ]
  },
  {
   "cell_type": "code",
   "execution_count": 2,
   "metadata": {
    "collapsed": false
   },
   "outputs": [],
   "source": [
    "data = data_all\n",
    "\n",
    "gap = []\n",
    "last = 0\n",
    "\n",
    "for el in data[\"location\"]:\n",
    "    gap.append(el - last)\n",
    "    last = el\n",
    "    \n",
    "data = data.join(pd.DataFrame(gap))\n",
    "data.columns = [\"location\", \"distance\"]"
   ]
  },
  {
   "cell_type": "code",
   "execution_count": 14,
   "metadata": {
    "collapsed": true
   },
   "outputs": [],
   "source": [
    "p = figure(title=\"Histogram of Distance between Palindromes\", tools=\"save\")\n",
    "\n",
    "hist, edges = np.histogram(gap, density=True, bins=100)\n",
    "\n",
    "p.quad(top=hist, bottom=0, left=edges[:-1], right=edges[1:],\n",
    "        fill_color=\"#036564\", line_color=\"#033649\")\n",
    "show(p)"
   ]
  },
  {
   "cell_type": "code",
   "execution_count": 9,
   "metadata": {
    "collapsed": false
   },
   "outputs": [],
   "source": [
    "p = figure(title = \"Location of Palindromes vs Distance between Palindromes\")\n",
    "p.yaxis.axis_label = 'Distance'\n",
    "p.xaxis.axis_label = 'Location'\n",
    "\n",
    "p.circle(data[\"location\"], data[\"distance\"], size=2)\n",
    "\n",
    "#loc = data[\"location\"]\n",
    "#dist = data[\"distance\"]\n",
    "#slope, intercept, x1, x2, x3 = stats.linregress(data[\"location\"], data[\"distance\"])\n",
    "\n",
    "#p.line([0,loc[-1]],[intercept,loc[-1] * slope])\n",
    "\n",
    "show(p)"
   ]
  },
  {
   "cell_type": "code",
   "execution_count": 12,
   "metadata": {
    "collapsed": false
   },
   "outputs": [],
   "source": [
    "\n"
   ]
  },
  {
   "cell_type": "code",
   "execution_count": null,
   "metadata": {
    "collapsed": true
   },
   "outputs": [],
   "source": []
  }
 ],
 "metadata": {
  "anaconda-cloud": {},
  "kernelspec": {
   "display_name": "Python [Root]",
   "language": "python",
   "name": "Python [Root]"
  },
  "language_info": {
   "codemirror_mode": {
    "name": "ipython",
    "version": 3
   },
   "file_extension": ".py",
   "mimetype": "text/x-python",
   "name": "python",
   "nbconvert_exporter": "python",
   "pygments_lexer": "ipython3",
   "version": "3.5.2"
  }
 },
 "nbformat": 4,
 "nbformat_minor": 0
}
