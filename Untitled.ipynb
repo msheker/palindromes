{
 "cells": [
  {
   "cell_type": "code",
   "execution_count": 2,
   "metadata": {
    "collapsed": false
   },
   "outputs": [],
   "source": [
    "import pandas as pd\n",
    "import numpy as np\n",
    "from scipy import stats\n",
    "\n",
    "import matplotlib.pyplot as plt\n",
    "from bokeh.plotting import figure, show, output_file\n",
    "from bokeh.layouts import gridplot\n",
    "\n",
    "data_all = pd.read_csv(\"hcmv-25kgjn1-1rfrtkc.txt\")"
   ]
  },
  {
   "cell_type": "code",
   "execution_count": 3,
   "metadata": {
    "collapsed": false
   },
   "outputs": [],
   "source": [
    "data = data_all\n",
    "\n",
    "p = figure(title=\"Histogram of Locations of Palindromes\", tools=\"save\")\n",
    "\n",
    "hist, edges = np.histogram(data, density=True, bins=100)\n",
    "\n",
    "p.quad(top=hist, bottom=0, left=edges[:-1], right=edges[1:],\n",
    "        fill_color=\"#036564\", line_color=\"#033649\")\n",
    "\n",
    "show(p)"
   ]
  },
  {
   "cell_type": "code",
   "execution_count": 11,
   "metadata": {
    "collapsed": false
   },
   "outputs": [
    {
     "data": {
      "text/html": [
       "<div>\n",
       "<table border=\"1\" class=\"dataframe\">\n",
       "  <thead>\n",
       "    <tr style=\"text-align: right;\">\n",
       "      <th></th>\n",
       "      <th>location</th>\n",
       "      <th>distance1</th>\n",
       "      <th>distance2</th>\n",
       "      <th>distance3</th>\n",
       "    </tr>\n",
       "  </thead>\n",
       "  <tbody>\n",
       "    <tr>\n",
       "      <th>count</th>\n",
       "      <td>296.000000</td>\n",
       "      <td>296.000000</td>\n",
       "      <td>296.000000</td>\n",
       "      <td>296.000000</td>\n",
       "    </tr>\n",
       "    <tr>\n",
       "      <th>mean</th>\n",
       "      <td>116960.104730</td>\n",
       "      <td>773.489865</td>\n",
       "      <td>1545.192568</td>\n",
       "      <td>2313.152027</td>\n",
       "    </tr>\n",
       "    <tr>\n",
       "      <th>std</th>\n",
       "      <td>64732.033538</td>\n",
       "      <td>832.117564</td>\n",
       "      <td>1228.140882</td>\n",
       "      <td>1472.002015</td>\n",
       "    </tr>\n",
       "    <tr>\n",
       "      <th>min</th>\n",
       "      <td>177.000000</td>\n",
       "      <td>1.000000</td>\n",
       "      <td>33.000000</td>\n",
       "      <td>82.000000</td>\n",
       "    </tr>\n",
       "    <tr>\n",
       "      <th>25%</th>\n",
       "      <td>63714.000000</td>\n",
       "      <td>162.500000</td>\n",
       "      <td>557.000000</td>\n",
       "      <td>1268.750000</td>\n",
       "    </tr>\n",
       "    <tr>\n",
       "      <th>50%</th>\n",
       "      <td>117826.000000</td>\n",
       "      <td>511.000000</td>\n",
       "      <td>1380.000000</td>\n",
       "      <td>2073.500000</td>\n",
       "    </tr>\n",
       "    <tr>\n",
       "      <th>75%</th>\n",
       "      <td>171143.500000</td>\n",
       "      <td>1144.000000</td>\n",
       "      <td>2144.500000</td>\n",
       "      <td>3013.500000</td>\n",
       "    </tr>\n",
       "    <tr>\n",
       "      <th>max</th>\n",
       "      <td>228953.000000</td>\n",
       "      <td>5333.000000</td>\n",
       "      <td>5926.000000</td>\n",
       "      <td>7488.000000</td>\n",
       "    </tr>\n",
       "  </tbody>\n",
       "</table>\n",
       "</div>"
      ],
      "text/plain": [
       "            location    distance1    distance2    distance3\n",
       "count     296.000000   296.000000   296.000000   296.000000\n",
       "mean   116960.104730   773.489865  1545.192568  2313.152027\n",
       "std     64732.033538   832.117564  1228.140882  1472.002015\n",
       "min       177.000000     1.000000    33.000000    82.000000\n",
       "25%     63714.000000   162.500000   557.000000  1268.750000\n",
       "50%    117826.000000   511.000000  1380.000000  2073.500000\n",
       "75%    171143.500000  1144.000000  2144.500000  3013.500000\n",
       "max    228953.000000  5333.000000  5926.000000  7488.000000"
      ]
     },
     "execution_count": 11,
     "metadata": {},
     "output_type": "execute_result"
    }
   ],
   "source": [
    "data = data_all\n",
    "\n",
    "gap0 = []\n",
    "gap1 = []\n",
    "gap2 = []\n",
    "\n",
    "l0 = 0\n",
    "l1 = 0\n",
    "l2 = 0\n",
    "\n",
    "for el in data[\"location\"]:\n",
    "    gap0.append(el - l0)\n",
    "    gap1.append(el - l1)\n",
    "    gap2.append(el - l2)\n",
    "    \n",
    "    l2 = l1\n",
    "    l1 = l0\n",
    "    l0 = el\n",
    "    \n",
    "data = data.join(pd.DataFrame(gap0), how = \"right\")\n",
    "data = data.join(pd.DataFrame(gap1), how = \"right\", lsuffix = \"x\")\n",
    "data = data.join(pd.DataFrame(gap2), how = \"right\", lsuffix = \"xx\")\n",
    "data.columns = [\"location\", \"distance1\", \"distance2\", \"distance3\"]\n",
    "data\n",
    "data.describe()"
   ]
  },
  {
   "cell_type": "code",
   "execution_count": 14,
   "metadata": {
    "collapsed": true
   },
   "outputs": [],
   "source": [
    "p = figure(title=\"Histogram of Distance between Palindromes\", tools=\"save\")\n",
    "\n",
    "hist, edges = np.histogram(gap0, density=True, bins=100)\n",
    "\n",
    "p.quad(top=hist, bottom=0, left=edges[:-1], right=edges[1:],\n",
    "        fill_color=\"#036564\", line_color=\"#033649\")\n",
    "show(p)"
   ]
  },
  {
   "cell_type": "code",
   "execution_count": 27,
   "metadata": {
    "collapsed": true
   },
   "outputs": [],
   "source": [
    "p = figure(title=\"Histogram of Second Distance between Palindromes\", tools=\"save\")\n",
    "\n",
    "hist, edges = np.histogram(gap1, density=True, bins=100)\n",
    "\n",
    "p.quad(top=hist, bottom=0, left=edges[:-1], right=edges[1:],\n",
    "        fill_color=\"#036564\", line_color=\"#033649\")\n",
    "show(p)"
   ]
  },
  {
   "cell_type": "code",
   "execution_count": 26,
   "metadata": {
    "collapsed": true
   },
   "outputs": [],
   "source": [
    "p = figure(title=\"Histogram of Third Distance between Palindromes\", tools=\"save\")\n",
    "\n",
    "hist, edges = np.histogram(gap2, density=True, bins=100)\n",
    "\n",
    "p.quad(top=hist, bottom=0, left=edges[:-1], right=edges[1:],\n",
    "        fill_color=\"#036564\", line_color=\"#033649\")\n",
    "show(p)"
   ]
  },
  {
   "cell_type": "code",
   "execution_count": 9,
   "metadata": {
    "collapsed": false
   },
   "outputs": [],
   "source": [
    "p = figure(title = \"Location of Palindromes vs Distance between Palindromes\")\n",
    "p.yaxis.axis_label = 'Distance'\n",
    "p.xaxis.axis_label = 'Location'\n",
    "\n",
    "p.circle(data[\"location\"], data[\"distance\"], size=2)\n",
    "\n",
    "#loc = data[\"location\"]\n",
    "#dist = data[\"distance\"]\n",
    "#slope, intercept, x1, x2, x3 = stats.linregress(data[\"location\"], data[\"distance\"])\n",
    "\n",
    "#p.line([0,loc[-1]],[intercept,loc[-1] * slope])\n",
    "\n",
    "show(p)"
   ]
  },
  {
   "cell_type": "code",
   "execution_count": 18,
   "metadata": {
    "collapsed": false
   },
   "outputs": [],
   "source": [
    "data = data_all\n",
    "\n",
    "p1 = figure(title=\"Histogram of Locations of Palindromes\", tools=\"save\")\n",
    "\n",
    "hist, edges = np.histogram(data, density=True, bins=100)\n",
    "\n",
    "p1.quad(top=hist, bottom=0, left=edges[:-1], right=edges[1:],\n",
    "        fill_color=\"#036564\", line_color=\"#033649\")\n",
    "\n",
    "p2 = figure(title=\"Histogram of a Uniform Random Variable\", tools=\"save\")\n",
    "\n",
    "hist, edges = np.histogram(stats.uniform().rvs(size = len(data[\"location\"])), density=True, bins=100)\n",
    "\n",
    "p2.quad(top=hist, bottom=0, left=edges[:-1], right=edges[1:],\n",
    "        fill_color=\"#036564\", line_color=\"#033649\")\n",
    "\n",
    "show(gridplot(p1,p2, ncols=2, plot_width=400, plot_height=400, toolbar_location=None))\n"
   ]
  },
  {
   "cell_type": "code",
   "execution_count": 71,
   "metadata": {
    "collapsed": false,
    "scrolled": true
   },
   "outputs": [
    {
     "name": "stdout",
     "output_type": "stream",
     "text": [
      "8047.508771929824\n",
      "9.40459993521\n",
      "3.15805717673\n",
      "26\n"
     ]
    }
   ],
   "source": [
    "m = 57/2\n",
    "bn = 229354 / m \n",
    "\n",
    "print(bn)\n",
    "\n",
    "counts = []\n",
    "\n",
    "for i in range(200):\n",
    "    ar = stats.uniform().rvs(size = len(data[\"location\"]))*229354\n",
    "    ar = np.sort(ar)\n",
    "    \n",
    "    gap0 = []\n",
    "    gap1 = []\n",
    "    gap2 = []\n",
    "\n",
    "    l0 = 0\n",
    "    l1 = 0\n",
    "    l2 = 0\n",
    "\n",
    "    for el in ar:\n",
    "        gap0.append(el - l0)\n",
    "        gap1.append(el - l1)\n",
    "        gap2.append(el - l2)\n",
    "    \n",
    "        l2 = l1\n",
    "        l1 = l0\n",
    "        l0 = el\n",
    "    \n",
    "    s = 0\n",
    "    c = 0\n",
    "    \n",
    "    for el in gap0:\n",
    "        s = s + el \n",
    "        if s > bn:\n",
    "            s = el\n",
    "            counts.append(c)\n",
    "            c = 1\n",
    "        else:\n",
    "            c = c + 1\n",
    "\n",
    "#print(counts)\n",
    "print(np.mean(counts))\n",
    "print(np.std(counts))\n",
    "print(np.max(counts))"
   ]
  },
  {
   "cell_type": "code",
   "execution_count": null,
   "metadata": {
    "collapsed": true
   },
   "outputs": [],
   "source": []
  },
  {
   "cell_type": "code",
   "execution_count": null,
   "metadata": {
    "collapsed": true
   },
   "outputs": [],
   "source": []
  }
 ],
 "metadata": {
  "anaconda-cloud": {},
  "kernelspec": {
   "display_name": "Python [Root]",
   "language": "python",
   "name": "Python [Root]"
  },
  "language_info": {
   "codemirror_mode": {
    "name": "ipython",
    "version": 3
   },
   "file_extension": ".py",
   "mimetype": "text/x-python",
   "name": "python",
   "nbconvert_exporter": "python",
   "pygments_lexer": "ipython3",
   "version": "3.5.2"
  }
 },
 "nbformat": 4,
 "nbformat_minor": 0
}
