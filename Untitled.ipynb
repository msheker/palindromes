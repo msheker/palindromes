{
 "cells": [
  {
   "cell_type": "code",
   "execution_count": 23,
   "metadata": {
    "collapsed": false
   },
   "outputs": [
    {
     "name": "stdout",
     "output_type": "stream",
     "text": [
      "296\n"
     ]
    }
   ],
   "source": [
    "import pandas as pd\n",
    "import numpy as np\n",
    "from scipy import stats\n",
    "\n",
    "import matplotlib.pyplot as plt\n",
    "from bokeh.plotting import figure, show, output_file\n",
    "from bokeh.layouts import gridplot, Row\n",
    "from bokeh.io import hplot\n",
    "\n",
    "data_all = pd.read_csv(\"hcmv-25kgjn1-1rfrtkc.txt\")"
   ]
  },
  {
   "cell_type": "code",
   "execution_count": 3,
   "metadata": {
    "collapsed": false
   },
   "outputs": [
    {
     "data": {
      "text/html": [
       "<div>\n",
       "<table border=\"1\" class=\"dataframe\">\n",
       "  <thead>\n",
       "    <tr style=\"text-align: right;\">\n",
       "      <th></th>\n",
       "      <th>location</th>\n",
       "      <th>distance1</th>\n",
       "      <th>distance2</th>\n",
       "      <th>distance3</th>\n",
       "      <th>distance4</th>\n",
       "      <th>distance9</th>\n",
       "    </tr>\n",
       "  </thead>\n",
       "  <tbody>\n",
       "    <tr>\n",
       "      <th>count</th>\n",
       "      <td>296.000000</td>\n",
       "      <td>296.000000</td>\n",
       "      <td>296.000000</td>\n",
       "      <td>296.000000</td>\n",
       "      <td>296.000000</td>\n",
       "      <td>296.000000</td>\n",
       "    </tr>\n",
       "    <tr>\n",
       "      <th>mean</th>\n",
       "      <td>116960.104730</td>\n",
       "      <td>773.489865</td>\n",
       "      <td>1545.192568</td>\n",
       "      <td>2313.152027</td>\n",
       "      <td>3080.885135</td>\n",
       "      <td>7646.847973</td>\n",
       "    </tr>\n",
       "    <tr>\n",
       "      <th>std</th>\n",
       "      <td>64732.033538</td>\n",
       "      <td>832.117564</td>\n",
       "      <td>1228.140882</td>\n",
       "      <td>1472.002015</td>\n",
       "      <td>1681.856668</td>\n",
       "      <td>2670.264470</td>\n",
       "    </tr>\n",
       "    <tr>\n",
       "      <th>min</th>\n",
       "      <td>177.000000</td>\n",
       "      <td>1.000000</td>\n",
       "      <td>33.000000</td>\n",
       "      <td>82.000000</td>\n",
       "      <td>140.000000</td>\n",
       "      <td>177.000000</td>\n",
       "    </tr>\n",
       "    <tr>\n",
       "      <th>25%</th>\n",
       "      <td>63714.000000</td>\n",
       "      <td>162.500000</td>\n",
       "      <td>557.000000</td>\n",
       "      <td>1268.750000</td>\n",
       "      <td>1853.000000</td>\n",
       "      <td>5847.750000</td>\n",
       "    </tr>\n",
       "    <tr>\n",
       "      <th>50%</th>\n",
       "      <td>117826.000000</td>\n",
       "      <td>511.000000</td>\n",
       "      <td>1380.000000</td>\n",
       "      <td>2073.500000</td>\n",
       "      <td>2819.500000</td>\n",
       "      <td>7761.500000</td>\n",
       "    </tr>\n",
       "    <tr>\n",
       "      <th>75%</th>\n",
       "      <td>171143.500000</td>\n",
       "      <td>1144.000000</td>\n",
       "      <td>2144.500000</td>\n",
       "      <td>3013.500000</td>\n",
       "      <td>3974.000000</td>\n",
       "      <td>9563.000000</td>\n",
       "    </tr>\n",
       "    <tr>\n",
       "      <th>max</th>\n",
       "      <td>228953.000000</td>\n",
       "      <td>5333.000000</td>\n",
       "      <td>5926.000000</td>\n",
       "      <td>7488.000000</td>\n",
       "      <td>9006.000000</td>\n",
       "      <td>13629.000000</td>\n",
       "    </tr>\n",
       "  </tbody>\n",
       "</table>\n",
       "</div>"
      ],
      "text/plain": [
       "            location    distance1    distance2    distance3    distance4  \\\n",
       "count     296.000000   296.000000   296.000000   296.000000   296.000000   \n",
       "mean   116960.104730   773.489865  1545.192568  2313.152027  3080.885135   \n",
       "std     64732.033538   832.117564  1228.140882  1472.002015  1681.856668   \n",
       "min       177.000000     1.000000    33.000000    82.000000   140.000000   \n",
       "25%     63714.000000   162.500000   557.000000  1268.750000  1853.000000   \n",
       "50%    117826.000000   511.000000  1380.000000  2073.500000  2819.500000   \n",
       "75%    171143.500000  1144.000000  2144.500000  3013.500000  3974.000000   \n",
       "max    228953.000000  5333.000000  5926.000000  7488.000000  9006.000000   \n",
       "\n",
       "          distance9  \n",
       "count    296.000000  \n",
       "mean    7646.847973  \n",
       "std     2670.264470  \n",
       "min      177.000000  \n",
       "25%     5847.750000  \n",
       "50%     7761.500000  \n",
       "75%     9563.000000  \n",
       "max    13629.000000  "
      ]
     },
     "execution_count": 3,
     "metadata": {},
     "output_type": "execute_result"
    }
   ],
   "source": [
    "data = data_all\n",
    "\n",
    "gap0 = []\n",
    "gap1 = []\n",
    "gap2 = []\n",
    "gap3 = []\n",
    "gap9 = []\n",
    "\n",
    "l0 = 0\n",
    "l1 = 0\n",
    "l2 = 0\n",
    "l3 = 0\n",
    "l4 = 0\n",
    "l5 = 0\n",
    "l6 = 0\n",
    "l7 = 0\n",
    "l8 = 0\n",
    "l9 = 0\n",
    "\n",
    "for el in data[\"location\"]:\n",
    "    gap0.append(el - l0)\n",
    "    gap1.append(el - l1)\n",
    "    gap2.append(el - l2)\n",
    "    gap3.append(el - l3)\n",
    "    gap9.append(el - l9)\n",
    "    \n",
    "    l9 = l8\n",
    "    l8 = l7\n",
    "    l7 = l6\n",
    "    l6 = l5\n",
    "    l5 = l4\n",
    "    l4 = l3\n",
    "    \n",
    "    l3 = l2\n",
    "    l2 = l1\n",
    "    l1 = l0\n",
    "    l0 = el\n",
    "    \n",
    "data = data.join(pd.DataFrame(gap0), how = \"right\")\n",
    "data = data.join(pd.DataFrame(gap1), how = \"right\", lsuffix = \"x\")\n",
    "data = data.join(pd.DataFrame(gap2), how = \"right\", lsuffix = \"xx\")\n",
    "data = data.join(pd.DataFrame(gap3), how = \"right\", lsuffix = \"xxx\")\n",
    "data = data.join(pd.DataFrame(gap9), how = \"right\", lsuffix = \"xxxx\")\n",
    "\n",
    "data.columns = [\"location\", \"distance1\", \"distance2\", \"distance3\", \"distance4\", \"distance9\"]\n",
    "data.describe()"
   ]
  },
  {
   "cell_type": "code",
   "execution_count": 2,
   "metadata": {
    "collapsed": false
   },
   "outputs": [],
   "source": [
    "data = data_all\n",
    "\n",
    "p = figure(title=\"Histogram of Locations of Palindromes\", tools=\"save\")\n",
    "\n",
    "hist, edges = np.histogram(data, density=True, bins=100)\n",
    "\n",
    "p.quad(top=hist, bottom=0, left=edges[:-1], right=edges[1:],\n",
    "        fill_color=\"#036564\", line_color=\"#033649\")\n",
    "\n",
    "show(p)"
   ]
  },
  {
   "cell_type": "code",
   "execution_count": 14,
   "metadata": {
    "collapsed": true
   },
   "outputs": [],
   "source": [
    "p = figure(title=\"Histogram of Distance between Palindromes\", tools=\"save\")\n",
    "\n",
    "hist, edges = np.histogram(gap0, density=True, bins=100)\n",
    "\n",
    "p.quad(top=hist, bottom=0, left=edges[:-1], right=edges[1:],\n",
    "        fill_color=\"#036564\", line_color=\"#033649\")\n",
    "show(p)"
   ]
  },
  {
   "cell_type": "code",
   "execution_count": 27,
   "metadata": {
    "collapsed": true
   },
   "outputs": [],
   "source": [
    "p = figure(title=\"Histogram of Second Distance between Palindromes\", tools=\"save\")\n",
    "\n",
    "hist, edges = np.histogram(gap1, density=True, bins=100)\n",
    "\n",
    "p.quad(top=hist, bottom=0, left=edges[:-1], right=edges[1:],\n",
    "        fill_color=\"#036564\", line_color=\"#033649\")\n",
    "show(p)"
   ]
  },
  {
   "cell_type": "code",
   "execution_count": 26,
   "metadata": {
    "collapsed": true
   },
   "outputs": [],
   "source": [
    "p = figure(title=\"Histogram of Third Distance between Palindromes\", tools=\"save\")\n",
    "\n",
    "hist, edges = np.histogram(gap2, density=True, bins=100)\n",
    "\n",
    "p.quad(top=hist, bottom=0, left=edges[:-1], right=edges[1:],\n",
    "        fill_color=\"#036564\", line_color=\"#033649\")\n",
    "show(p)"
   ]
  },
  {
   "cell_type": "code",
   "execution_count": 97,
   "metadata": {
    "collapsed": false
   },
   "outputs": [],
   "source": [
    "p1 = figure(title = \"Location of Palindromes vs Distance between Palindromes\")\n",
    "p1.yaxis.axis_label = 'Distance'\n",
    "p1.xaxis.axis_label = 'Location'\n",
    "\n",
    "p1.circle(data[\"location\"], data[\"distance1\"], size=2.5)\n",
    "\n",
    "p2 = figure(title = \"Location of Palindromes vs Distance between Three Palindromes\")\n",
    "p2.yaxis.axis_label = 'Distance'\n",
    "p2.xaxis.axis_label = 'Location'\n",
    "\n",
    "p2.circle(data[\"location\"], data[\"distance2\"], size=2.5)\n",
    "\n",
    "p3 = figure(title = \"Location of Palindromes vs Distance between Four Palindromes\")\n",
    "p3.yaxis.axis_label = 'Distance'\n",
    "p3.xaxis.axis_label = 'Location'\n",
    "\n",
    "p3.circle(data[\"location\"], data[\"distance3\"], size=2.5)\n",
    "\n",
    "p4 = figure(title = \"Location of Palindromes vs Distance between Five Palindromes\")\n",
    "p4.yaxis.axis_label = 'Distance'\n",
    "p4.xaxis.axis_label = 'Location'\n",
    "\n",
    "p4.circle(data[\"location\"], data[\"distance4\"], size=2.5)\n",
    "\n",
    "p5 = figure(title = \"Location of Palindromes vs Distance between Ten Palindromes\")\n",
    "p5.yaxis.axis_label = 'Distance'\n",
    "p5.xaxis.axis_label = 'Location'\n",
    "\n",
    "p5.circle(data[\"location\"], data[\"distance9\"], size=2.5)\n",
    "\n",
    "p = Row(p1,p2,p3,p4,p5)\n",
    "\n",
    "show(p)"
   ]
  },
  {
   "cell_type": "code",
   "execution_count": 18,
   "metadata": {
    "collapsed": false
   },
   "outputs": [],
   "source": [
    "data = data_all\n",
    "\n",
    "p1 = figure(title=\"Histogram of Locations of Palindromes\", tools=\"save\")\n",
    "\n",
    "hist, edges = np.histogram(data, density=True, bins=100)\n",
    "\n",
    "p1.quad(top=hist, bottom=0, left=edges[:-1], right=edges[1:],\n",
    "        fill_color=\"#036564\", line_color=\"#033649\")\n",
    "\n",
    "p2 = figure(title=\"Histogram of a Uniform Random Variable\", tools=\"save\")\n",
    "\n",
    "hist, edges = np.histogram(stats.uniform().rvs(size = len(data[\"location\"])), density=True, bins=100)\n",
    "\n",
    "p2.quad(top=hist, bottom=0, left=edges[:-1], right=edges[1:],\n",
    "        fill_color=\"#036564\", line_color=\"#033649\")\n",
    "\n",
    "show(gridplot(p1,p2, ncols=2, plot_width=400, plot_height=400, toolbar_location=None))\n"
   ]
  },
  {
   "cell_type": "code",
   "execution_count": 7,
   "metadata": {
    "collapsed": false,
    "scrolled": true
   },
   "outputs": [],
   "source": [
    "means = []\n",
    "\n",
    "m = 57\n",
    "bn = 229354 / m \n",
    "\n",
    "for i in range(2000):\n",
    "    ar = stats.uniform().rvs(size = len(data[\"location\"]))*229354\n",
    "    ar = np.sort(ar)\n",
    "    \n",
    "    gap0 = []\n",
    "    l0 = 0\n",
    "\n",
    "    for el in ar:\n",
    "        gap0.append(el - l0)\n",
    "        l0 = el\n",
    "    \n",
    "    s = 0\n",
    "    c = 0\n",
    "    counts = []\n",
    "\n",
    "    for el in gap0:\n",
    "        s = s + el \n",
    "        if s > bn:\n",
    "            s = el\n",
    "            counts.append(c)\n",
    "            c = 1\n",
    "        else:\n",
    "            c = c + 1\n",
    "\n",
    "    means.append(np.mean(counts))\n",
    "    \n",
    "p = figure(title=\"Histogram of Means from a Uniform Random Variable\", tools=\"save\")\n",
    "\n",
    "hist, edges = np.histogram(means, density=True, bins=100)\n",
    "\n",
    "p.quad(top=hist, bottom=0, left=edges[:-1], right=edges[1:],\n",
    "        fill_color=\"#036564\", line_color=\"#033649\")\n",
    "show(p)"
   ]
  },
  {
   "cell_type": "code",
   "execution_count": 37,
   "metadata": {
    "collapsed": false
   },
   "outputs": [
    {
     "name": "stdout",
     "output_type": "stream",
     "text": [
      "4.32352941176\n"
     ]
    }
   ],
   "source": [
    "data = data_all\n",
    "\n",
    "m = 57\n",
    "bn = 229354 / m \n",
    "\n",
    "counts = []\n",
    "\n",
    "gap0 = []\n",
    "\n",
    "l0 = 0\n",
    "\n",
    "for el in data[\"location\"]:\n",
    "    gap0.append(el - l0)\n",
    "    \n",
    "    l0 = el\n",
    "    \n",
    "s = 0\n",
    "c = 0\n",
    "    \n",
    "for el in gap0:\n",
    "    s = s + el \n",
    "    if s > bn:\n",
    "        s = el\n",
    "        counts.append(c)\n",
    "        c = 1\n",
    "    else:\n",
    "        c = c + 1\n",
    "        \n",
    "#p = figure(title = \"Location Distribution (number of bins = 57)\")\n",
    "#p.vbar(x = np.arange(0,229354,bn), top = counts)\n",
    "\n",
    "#show(p)\n",
    "mu = np.mean(counts)\n",
    "print(mu)"
   ]
  },
  {
   "cell_type": "code",
   "execution_count": 41,
   "metadata": {
    "collapsed": false
   },
   "outputs": [
    {
     "name": "stdout",
     "output_type": "stream",
     "text": [
      "5.16112280702\n",
      "11.0505\n"
     ]
    }
   ],
   "source": [
    "means = []\n",
    "mx = []\n",
    "\n",
    "#found via R simulation\n",
    "mu = 5.16\n",
    "\n",
    "m = 57\n",
    "bn = 229354 / m \n",
    "\n",
    "for i in range(2000):\n",
    "    ar = stats.poisson.rvs(mu, loc=0, size=m, random_state=None)\n",
    "    means.append(np.mean(ar))\n",
    "    mx.append(np.max(ar))\n",
    "    \n",
    "p = figure(title=\"Histogram of Means from a Poisson Random Variable\", tools=\"save\")\n",
    "\n",
    "hist, edges = np.histogram(means, density=True, bins=100)\n",
    "\n",
    "p.quad(top=hist, bottom=0, left=edges[:-1], right=edges[1:],\n",
    "        fill_color=\"#036564\", line_color=\"#033649\")\n",
    "show(p)\n",
    "\n",
    "print(np.mean(means))\n",
    "print(np.mean(mx))\n"
   ]
  },
  {
   "cell_type": "code",
   "execution_count": 43,
   "metadata": {
    "collapsed": false
   },
   "outputs": [
    {
     "ename": "NameError",
     "evalue": "name 'heapq' is not defined",
     "output_type": "error",
     "traceback": [
      "\u001b[1;31m---------------------------------------------------------------------------\u001b[0m",
      "\u001b[1;31mNameError\u001b[0m                                 Traceback (most recent call last)",
      "\u001b[1;32m<ipython-input-43-0c0328e7c654>\u001b[0m in \u001b[0;36m<module>\u001b[1;34m()\u001b[0m\n\u001b[1;32m----> 1\u001b[1;33m \u001b[0mh\u001b[0m \u001b[1;33m=\u001b[0m \u001b[0mheapq\u001b[0m\u001b[1;33m(\u001b[0m\u001b[1;33m)\u001b[0m\u001b[1;33m\u001b[0m\u001b[0m\n\u001b[0m",
      "\u001b[1;31mNameError\u001b[0m: name 'heapq' is not defined"
     ]
    }
   ],
   "source": [
    "h = heapq()"
   ]
  },
  {
   "cell_type": "code",
   "execution_count": null,
   "metadata": {
    "collapsed": true
   },
   "outputs": [],
   "source": []
  }
 ],
 "metadata": {
  "anaconda-cloud": {},
  "kernelspec": {
   "display_name": "Python [Root]",
   "language": "python",
   "name": "Python [Root]"
  },
  "language_info": {
   "codemirror_mode": {
    "name": "ipython",
    "version": 3
   },
   "file_extension": ".py",
   "mimetype": "text/x-python",
   "name": "python",
   "nbconvert_exporter": "python",
   "pygments_lexer": "ipython3",
   "version": "3.5.2"
  }
 },
 "nbformat": 4,
 "nbformat_minor": 0
}
